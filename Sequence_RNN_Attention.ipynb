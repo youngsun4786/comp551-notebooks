{
 "nbformat": 4,
 "nbformat_minor": 0,
 "metadata": {
  "colab": {
   "provenance": [],
   "collapsed_sections": [
    "kRb_sju1lrks",
    "Ff0VIBrcEghb",
    "j3PODMTQMF1s",
    "aTrlX5jNasqx",
    "VKj5IKANavL7",
    "C5-a_FEtgGae",
    "ICJTt5J-g6Or",
    "zZlXyxkJuigm"
   ]
  },
  "kernelspec": {
   "name": "python3",
   "display_name": "Python 3"
  },
  "language_info": {
   "name": "python"
  }
 },
 "cells": [
  {
   "cell_type": "markdown",
   "source": [
    "PREDICTING NEXT TIME STEP HEART FAILURE FROM SEQUENCIAL PATIENT DATA"
   ],
   "metadata": {
    "id": "GMixAbHJ3qBl"
   }
  },
  {
   "cell_type": "markdown",
   "source": [
    "# Imports"
   ],
   "metadata": {
    "id": "kRb_sju1lrks"
   }
  },
  {
   "cell_type": "code",
   "execution_count": null,
   "metadata": {
    "colab": {
     "base_uri": "https://localhost:8080/"
    },
    "id": "I45d_fOd5KgF",
    "outputId": "9820aea0-0aa2-4a77-d6c2-26dca8ed0596"
   },
   "outputs": [
    {
     "output_type": "stream",
     "name": "stdout",
     "text": [
      "cpu is available.\n"
     ]
    }
   ],
   "source": [
    "####imports\n",
    "import pandas as pd\n",
    "from google.colab import files\n",
    "import io\n",
    "import numpy as np\n",
    "from tqdm import tqdm\n",
    "import pickle\n",
    "import torch\n",
    "from torch.utils.data import TensorDataset, DataLoader\n",
    "from sklearn.model_selection import train_test_split\n",
    "from tensorflow.keras.preprocessing.sequence import pad_sequences\n",
    "from tqdm import tqdm\n",
    "import pandas as pd\n",
    "import numpy as np\n",
    "import matplotlib.pyplot as plt\n",
    "import torch.nn.functional as F\n",
    "from datetime import datetime\n",
    "from sklearn.metrics import roc_auc_score, average_precision_score\n",
    "from sklearn.metrics import precision_recall_curve, roc_curve\n",
    "# model\n",
    "import os\n",
    "import pickle\n",
    "import numpy as np\n",
    "import tensorflow as tf\n",
    "import joblib\n",
    "import pandas as pd\n",
    "import matplotlib.pyplot as plt\n",
    "from sklearn.model_selection import train_test_split, GridSearchCV\n",
    "from sklearn.linear_model import LogisticRegression, LogisticRegressionCV\n",
    "from sklearn.svm import LinearSVC, SVC\n",
    "from sklearn.metrics import classification_report, roc_auc_score, average_precision_score\n",
    "\n",
    "from tensorflow.keras.models import Model, Sequential, load_model\n",
    "import tensorflow.keras.backend as K\n",
    "from tensorflow.keras.optimizers import Adam\n",
    "from tensorflow.keras.layers import LSTM, GRU, SimpleRNN, Dense, Input, Masking, concatenate, LayerNormalization, Add, Dropout\n",
    "from tensorflow.keras.preprocessing.sequence import pad_sequences\n",
    "from tensorflow.keras.callbacks import ModelCheckpoint\n",
    "import tensorflow as tf\n",
    "\n",
    "from sklearn.metrics import mean_absolute_error\n",
    "\n",
    "#from keras_multi_head import MultiHeadAttention\n",
    "import seaborn as sns\n",
    "\n",
    "\n",
    "device = \"cuda\" if torch.cuda.is_available() else \"cpu\"\n",
    "print(f\"{device}\" \" is available.\")\n"
   ]
  },
  {
   "cell_type": "code",
   "source": [
    "###### IMPORTING DATA IN GOOGLE COLAB #######\n",
    "uploaded = files.upload()\n",
    "df = pd.read_csv(io.BytesIO(uploaded['synthetic_data.csv']))\n",
    "df.head(10)\n",
    "\n",
    "#NOTE IMPORTANT THIS IS DATA OF PATIENTS OLDER THAN 40 AND FOR EACH FEATURE WE ARE GIVING THE AGE AT DIAGNOSIS"
   ],
   "metadata": {
    "colab": {
     "base_uri": "https://localhost:8080/",
     "height": 512
    },
    "id": "lvBV43uz54qa",
    "outputId": "adc58fbe-7cb3-4dff-ac35-265dfce47e8b"
   },
   "execution_count": null,
   "outputs": [
    {
     "output_type": "display_data",
     "data": {
      "text/plain": [
       "<IPython.core.display.HTML object>"
      ],
      "text/html": [
       "\n",
       "     <input type=\"file\" id=\"files-f0d1235c-2b67-4c0b-8e26-f2f3cfaca089\" name=\"files[]\" multiple disabled\n",
       "        style=\"border:none\" />\n",
       "     <output id=\"result-f0d1235c-2b67-4c0b-8e26-f2f3cfaca089\">\n",
       "      Upload widget is only available when the cell has been executed in the\n",
       "      current browser session. Please rerun this cell to enable.\n",
       "      </output>\n",
       "      <script>// Copyright 2017 Google LLC\n",
       "//\n",
       "// Licensed under the Apache License, Version 2.0 (the \"License\");\n",
       "// you may not use this file except in compliance with the License.\n",
       "// You may obtain a copy of the License at\n",
       "//\n",
       "//      http://www.apache.org/licenses/LICENSE-2.0\n",
       "//\n",
       "// Unless required by applicable law or agreed to in writing, software\n",
       "// distributed under the License is distributed on an \"AS IS\" BASIS,\n",
       "// WITHOUT WARRANTIES OR CONDITIONS OF ANY KIND, either express or implied.\n",
       "// See the License for the specific language governing permissions and\n",
       "// limitations under the License.\n",
       "\n",
       "/**\n",
       " * @fileoverview Helpers for google.colab Python module.\n",
       " */\n",
       "(function(scope) {\n",
       "function span(text, styleAttributes = {}) {\n",
       "  const element = document.createElement('span');\n",
       "  element.textContent = text;\n",
       "  for (const key of Object.keys(styleAttributes)) {\n",
       "    element.style[key] = styleAttributes[key];\n",
       "  }\n",
       "  return element;\n",
       "}\n",
       "\n",
       "// Max number of bytes which will be uploaded at a time.\n",
       "const MAX_PAYLOAD_SIZE = 100 * 1024;\n",
       "\n",
       "function _uploadFiles(inputId, outputId) {\n",
       "  const steps = uploadFilesStep(inputId, outputId);\n",
       "  const outputElement = document.getElementById(outputId);\n",
       "  // Cache steps on the outputElement to make it available for the next call\n",
       "  // to uploadFilesContinue from Python.\n",
       "  outputElement.steps = steps;\n",
       "\n",
       "  return _uploadFilesContinue(outputId);\n",
       "}\n",
       "\n",
       "// This is roughly an async generator (not supported in the browser yet),\n",
       "// where there are multiple asynchronous steps and the Python side is going\n",
       "// to poll for completion of each step.\n",
       "// This uses a Promise to block the python side on completion of each step,\n",
       "// then passes the result of the previous step as the input to the next step.\n",
       "function _uploadFilesContinue(outputId) {\n",
       "  const outputElement = document.getElementById(outputId);\n",
       "  const steps = outputElement.steps;\n",
       "\n",
       "  const next = steps.next(outputElement.lastPromiseValue);\n",
       "  return Promise.resolve(next.value.promise).then((value) => {\n",
       "    // Cache the last promise value to make it available to the next\n",
       "    // step of the generator.\n",
       "    outputElement.lastPromiseValue = value;\n",
       "    return next.value.response;\n",
       "  });\n",
       "}\n",
       "\n",
       "/**\n",
       " * Generator function which is called between each async step of the upload\n",
       " * process.\n",
       " * @param {string} inputId Element ID of the input file picker element.\n",
       " * @param {string} outputId Element ID of the output display.\n",
       " * @return {!Iterable<!Object>} Iterable of next steps.\n",
       " */\n",
       "function* uploadFilesStep(inputId, outputId) {\n",
       "  const inputElement = document.getElementById(inputId);\n",
       "  inputElement.disabled = false;\n",
       "\n",
       "  const outputElement = document.getElementById(outputId);\n",
       "  outputElement.innerHTML = '';\n",
       "\n",
       "  const pickedPromise = new Promise((resolve) => {\n",
       "    inputElement.addEventListener('change', (e) => {\n",
       "      resolve(e.target.files);\n",
       "    });\n",
       "  });\n",
       "\n",
       "  const cancel = document.createElement('button');\n",
       "  inputElement.parentElement.appendChild(cancel);\n",
       "  cancel.textContent = 'Cancel upload';\n",
       "  const cancelPromise = new Promise((resolve) => {\n",
       "    cancel.onclick = () => {\n",
       "      resolve(null);\n",
       "    };\n",
       "  });\n",
       "\n",
       "  // Wait for the user to pick the files.\n",
       "  const files = yield {\n",
       "    promise: Promise.race([pickedPromise, cancelPromise]),\n",
       "    response: {\n",
       "      action: 'starting',\n",
       "    }\n",
       "  };\n",
       "\n",
       "  cancel.remove();\n",
       "\n",
       "  // Disable the input element since further picks are not allowed.\n",
       "  inputElement.disabled = true;\n",
       "\n",
       "  if (!files) {\n",
       "    return {\n",
       "      response: {\n",
       "        action: 'complete',\n",
       "      }\n",
       "    };\n",
       "  }\n",
       "\n",
       "  for (const file of files) {\n",
       "    const li = document.createElement('li');\n",
       "    li.append(span(file.name, {fontWeight: 'bold'}));\n",
       "    li.append(span(\n",
       "        `(${file.type || 'n/a'}) - ${file.size} bytes, ` +\n",
       "        `last modified: ${\n",
       "            file.lastModifiedDate ? file.lastModifiedDate.toLocaleDateString() :\n",
       "                                    'n/a'} - `));\n",
       "    const percent = span('0% done');\n",
       "    li.appendChild(percent);\n",
       "\n",
       "    outputElement.appendChild(li);\n",
       "\n",
       "    const fileDataPromise = new Promise((resolve) => {\n",
       "      const reader = new FileReader();\n",
       "      reader.onload = (e) => {\n",
       "        resolve(e.target.result);\n",
       "      };\n",
       "      reader.readAsArrayBuffer(file);\n",
       "    });\n",
       "    // Wait for the data to be ready.\n",
       "    let fileData = yield {\n",
       "      promise: fileDataPromise,\n",
       "      response: {\n",
       "        action: 'continue',\n",
       "      }\n",
       "    };\n",
       "\n",
       "    // Use a chunked sending to avoid message size limits. See b/62115660.\n",
       "    let position = 0;\n",
       "    do {\n",
       "      const length = Math.min(fileData.byteLength - position, MAX_PAYLOAD_SIZE);\n",
       "      const chunk = new Uint8Array(fileData, position, length);\n",
       "      position += length;\n",
       "\n",
       "      const base64 = btoa(String.fromCharCode.apply(null, chunk));\n",
       "      yield {\n",
       "        response: {\n",
       "          action: 'append',\n",
       "          file: file.name,\n",
       "          data: base64,\n",
       "        },\n",
       "      };\n",
       "\n",
       "      let percentDone = fileData.byteLength === 0 ?\n",
       "          100 :\n",
       "          Math.round((position / fileData.byteLength) * 100);\n",
       "      percent.textContent = `${percentDone}% done`;\n",
       "\n",
       "    } while (position < fileData.byteLength);\n",
       "  }\n",
       "\n",
       "  // All done.\n",
       "  yield {\n",
       "    response: {\n",
       "      action: 'complete',\n",
       "    }\n",
       "  };\n",
       "}\n",
       "\n",
       "scope.google = scope.google || {};\n",
       "scope.google.colab = scope.google.colab || {};\n",
       "scope.google.colab._files = {\n",
       "  _uploadFiles,\n",
       "  _uploadFilesContinue,\n",
       "};\n",
       "})(self);\n",
       "</script> "
      ]
     },
     "metadata": {}
    },
    {
     "output_type": "stream",
     "name": "stdout",
     "text": [
      "Saving synthetic_data.csv to synthetic_data.csv\n"
     ]
    },
    {
     "output_type": "execute_result",
     "data": {
      "text/plain": [
       "    nam      ageT0    age_end sex  Lesion  age_1stCAD  age_1stARR  \\\n",
       "0  1884  71.661537  88.588678   M  Severe   73.465811         NaN   \n",
       "1  2153  77.250255  88.897479   M   Valve   67.239079         NaN   \n",
       "2  1468  75.216748  85.942570   M   other         NaN   85.942570   \n",
       "3  6820  71.886454  82.930905   M   Shunt   52.299682         NaN   \n",
       "4  3403  66.957054  69.821617   F   other   62.555418         NaN   \n",
       "5  6654  76.571826  82.973190   M   Valve         NaN   56.247117   \n",
       "6  2521  68.743398  76.184429   F   Valve         NaN         NaN   \n",
       "7  2943  84.097805  96.972426   F   Shunt         NaN   72.049700   \n",
       "8  1948   7.663564  79.727097   F   Valve         NaN         NaN   \n",
       "9  8583  67.100556  74.339450   F  Severe   56.657575   74.339450   \n",
       "\n",
       "   age_1stVARR  age_1stPH  age_1stDIAB  ...  age_allSX5  age_allSX6  \\\n",
       "0          NaN  77.994420          NaN  ...         NaN         NaN   \n",
       "1          NaN  71.783267          NaN  ...         NaN         NaN   \n",
       "2          NaN  55.039581          NaN  ...         NaN         NaN   \n",
       "3          NaN        NaN          NaN  ...         NaN         NaN   \n",
       "4          NaN        NaN          NaN  ...         NaN         NaN   \n",
       "5          NaN        NaN    63.289523  ...         NaN         NaN   \n",
       "6          NaN        NaN    76.184429  ...         NaN         NaN   \n",
       "7          NaN        NaN          NaN  ...         NaN         NaN   \n",
       "8    63.653177        NaN          NaN  ...         NaN         NaN   \n",
       "9          NaN  46.798190          NaN  ...         NaN         NaN   \n",
       "\n",
       "   age_allSX7  age_allSX8  age_allSX9  age_allSX10  age_allSX11  age_allSX12  \\\n",
       "0         NaN         NaN         NaN          NaN          NaN          NaN   \n",
       "1         NaN         NaN         NaN          NaN          NaN          NaN   \n",
       "2         NaN         NaN         NaN          NaN          NaN          NaN   \n",
       "3         NaN         NaN         NaN          NaN          NaN          NaN   \n",
       "4         NaN         NaN         NaN          NaN          NaN          NaN   \n",
       "5         NaN         NaN         NaN          NaN          NaN          NaN   \n",
       "6         NaN         NaN         NaN          NaN          NaN          NaN   \n",
       "7         NaN         NaN         NaN          NaN          NaN          NaN   \n",
       "8         NaN         NaN         NaN          NaN          NaN          NaN   \n",
       "9         NaN         NaN         NaN          NaN          NaN          NaN   \n",
       "\n",
       "   age_allSX13  HF  \n",
       "0          NaN   1  \n",
       "1          NaN   1  \n",
       "2          NaN   1  \n",
       "3          NaN   1  \n",
       "4          NaN   1  \n",
       "5          NaN   1  \n",
       "6          NaN   1  \n",
       "7          NaN   1  \n",
       "8          NaN   1  \n",
       "9          NaN   1  \n",
       "\n",
       "[10 rows x 30 columns]"
      ],
      "text/html": [
       "\n",
       "  <div id=\"df-6f108fab-ac09-4c6d-91b1-cc59bba2c890\">\n",
       "    <div class=\"colab-df-container\">\n",
       "      <div>\n",
       "<style scoped>\n",
       "    .dataframe tbody tr th:only-of-type {\n",
       "        vertical-align: middle;\n",
       "    }\n",
       "\n",
       "    .dataframe tbody tr th {\n",
       "        vertical-align: top;\n",
       "    }\n",
       "\n",
       "    .dataframe thead th {\n",
       "        text-align: right;\n",
       "    }\n",
       "</style>\n",
       "<table border=\"1\" class=\"dataframe\">\n",
       "  <thead>\n",
       "    <tr style=\"text-align: right;\">\n",
       "      <th></th>\n",
       "      <th>nam</th>\n",
       "      <th>ageT0</th>\n",
       "      <th>age_end</th>\n",
       "      <th>sex</th>\n",
       "      <th>Lesion</th>\n",
       "      <th>age_1stCAD</th>\n",
       "      <th>age_1stARR</th>\n",
       "      <th>age_1stVARR</th>\n",
       "      <th>age_1stPH</th>\n",
       "      <th>age_1stDIAB</th>\n",
       "      <th>...</th>\n",
       "      <th>age_allSX5</th>\n",
       "      <th>age_allSX6</th>\n",
       "      <th>age_allSX7</th>\n",
       "      <th>age_allSX8</th>\n",
       "      <th>age_allSX9</th>\n",
       "      <th>age_allSX10</th>\n",
       "      <th>age_allSX11</th>\n",
       "      <th>age_allSX12</th>\n",
       "      <th>age_allSX13</th>\n",
       "      <th>HF</th>\n",
       "    </tr>\n",
       "  </thead>\n",
       "  <tbody>\n",
       "    <tr>\n",
       "      <th>0</th>\n",
       "      <td>1884</td>\n",
       "      <td>71.661537</td>\n",
       "      <td>88.588678</td>\n",
       "      <td>M</td>\n",
       "      <td>Severe</td>\n",
       "      <td>73.465811</td>\n",
       "      <td>NaN</td>\n",
       "      <td>NaN</td>\n",
       "      <td>77.994420</td>\n",
       "      <td>NaN</td>\n",
       "      <td>...</td>\n",
       "      <td>NaN</td>\n",
       "      <td>NaN</td>\n",
       "      <td>NaN</td>\n",
       "      <td>NaN</td>\n",
       "      <td>NaN</td>\n",
       "      <td>NaN</td>\n",
       "      <td>NaN</td>\n",
       "      <td>NaN</td>\n",
       "      <td>NaN</td>\n",
       "      <td>1</td>\n",
       "    </tr>\n",
       "    <tr>\n",
       "      <th>1</th>\n",
       "      <td>2153</td>\n",
       "      <td>77.250255</td>\n",
       "      <td>88.897479</td>\n",
       "      <td>M</td>\n",
       "      <td>Valve</td>\n",
       "      <td>67.239079</td>\n",
       "      <td>NaN</td>\n",
       "      <td>NaN</td>\n",
       "      <td>71.783267</td>\n",
       "      <td>NaN</td>\n",
       "      <td>...</td>\n",
       "      <td>NaN</td>\n",
       "      <td>NaN</td>\n",
       "      <td>NaN</td>\n",
       "      <td>NaN</td>\n",
       "      <td>NaN</td>\n",
       "      <td>NaN</td>\n",
       "      <td>NaN</td>\n",
       "      <td>NaN</td>\n",
       "      <td>NaN</td>\n",
       "      <td>1</td>\n",
       "    </tr>\n",
       "    <tr>\n",
       "      <th>2</th>\n",
       "      <td>1468</td>\n",
       "      <td>75.216748</td>\n",
       "      <td>85.942570</td>\n",
       "      <td>M</td>\n",
       "      <td>other</td>\n",
       "      <td>NaN</td>\n",
       "      <td>85.942570</td>\n",
       "      <td>NaN</td>\n",
       "      <td>55.039581</td>\n",
       "      <td>NaN</td>\n",
       "      <td>...</td>\n",
       "      <td>NaN</td>\n",
       "      <td>NaN</td>\n",
       "      <td>NaN</td>\n",
       "      <td>NaN</td>\n",
       "      <td>NaN</td>\n",
       "      <td>NaN</td>\n",
       "      <td>NaN</td>\n",
       "      <td>NaN</td>\n",
       "      <td>NaN</td>\n",
       "      <td>1</td>\n",
       "    </tr>\n",
       "    <tr>\n",
       "      <th>3</th>\n",
       "      <td>6820</td>\n",
       "      <td>71.886454</td>\n",
       "      <td>82.930905</td>\n",
       "      <td>M</td>\n",
       "      <td>Shunt</td>\n",
       "      <td>52.299682</td>\n",
       "      <td>NaN</td>\n",
       "      <td>NaN</td>\n",
       "      <td>NaN</td>\n",
       "      <td>NaN</td>\n",
       "      <td>...</td>\n",
       "      <td>NaN</td>\n",
       "      <td>NaN</td>\n",
       "      <td>NaN</td>\n",
       "      <td>NaN</td>\n",
       "      <td>NaN</td>\n",
       "      <td>NaN</td>\n",
       "      <td>NaN</td>\n",
       "      <td>NaN</td>\n",
       "      <td>NaN</td>\n",
       "      <td>1</td>\n",
       "    </tr>\n",
       "    <tr>\n",
       "      <th>4</th>\n",
       "      <td>3403</td>\n",
       "      <td>66.957054</td>\n",
       "      <td>69.821617</td>\n",
       "      <td>F</td>\n",
       "      <td>other</td>\n",
       "      <td>62.555418</td>\n",
       "      <td>NaN</td>\n",
       "      <td>NaN</td>\n",
       "      <td>NaN</td>\n",
       "      <td>NaN</td>\n",
       "      <td>...</td>\n",
       "      <td>NaN</td>\n",
       "      <td>NaN</td>\n",
       "      <td>NaN</td>\n",
       "      <td>NaN</td>\n",
       "      <td>NaN</td>\n",
       "      <td>NaN</td>\n",
       "      <td>NaN</td>\n",
       "      <td>NaN</td>\n",
       "      <td>NaN</td>\n",
       "      <td>1</td>\n",
       "    </tr>\n",
       "    <tr>\n",
       "      <th>5</th>\n",
       "      <td>6654</td>\n",
       "      <td>76.571826</td>\n",
       "      <td>82.973190</td>\n",
       "      <td>M</td>\n",
       "      <td>Valve</td>\n",
       "      <td>NaN</td>\n",
       "      <td>56.247117</td>\n",
       "      <td>NaN</td>\n",
       "      <td>NaN</td>\n",
       "      <td>63.289523</td>\n",
       "      <td>...</td>\n",
       "      <td>NaN</td>\n",
       "      <td>NaN</td>\n",
       "      <td>NaN</td>\n",
       "      <td>NaN</td>\n",
       "      <td>NaN</td>\n",
       "      <td>NaN</td>\n",
       "      <td>NaN</td>\n",
       "      <td>NaN</td>\n",
       "      <td>NaN</td>\n",
       "      <td>1</td>\n",
       "    </tr>\n",
       "    <tr>\n",
       "      <th>6</th>\n",
       "      <td>2521</td>\n",
       "      <td>68.743398</td>\n",
       "      <td>76.184429</td>\n",
       "      <td>F</td>\n",
       "      <td>Valve</td>\n",
       "      <td>NaN</td>\n",
       "      <td>NaN</td>\n",
       "      <td>NaN</td>\n",
       "      <td>NaN</td>\n",
       "      <td>76.184429</td>\n",
       "      <td>...</td>\n",
       "      <td>NaN</td>\n",
       "      <td>NaN</td>\n",
       "      <td>NaN</td>\n",
       "      <td>NaN</td>\n",
       "      <td>NaN</td>\n",
       "      <td>NaN</td>\n",
       "      <td>NaN</td>\n",
       "      <td>NaN</td>\n",
       "      <td>NaN</td>\n",
       "      <td>1</td>\n",
       "    </tr>\n",
       "    <tr>\n",
       "      <th>7</th>\n",
       "      <td>2943</td>\n",
       "      <td>84.097805</td>\n",
       "      <td>96.972426</td>\n",
       "      <td>F</td>\n",
       "      <td>Shunt</td>\n",
       "      <td>NaN</td>\n",
       "      <td>72.049700</td>\n",
       "      <td>NaN</td>\n",
       "      <td>NaN</td>\n",
       "      <td>NaN</td>\n",
       "      <td>...</td>\n",
       "      <td>NaN</td>\n",
       "      <td>NaN</td>\n",
       "      <td>NaN</td>\n",
       "      <td>NaN</td>\n",
       "      <td>NaN</td>\n",
       "      <td>NaN</td>\n",
       "      <td>NaN</td>\n",
       "      <td>NaN</td>\n",
       "      <td>NaN</td>\n",
       "      <td>1</td>\n",
       "    </tr>\n",
       "    <tr>\n",
       "      <th>8</th>\n",
       "      <td>1948</td>\n",
       "      <td>7.663564</td>\n",
       "      <td>79.727097</td>\n",
       "      <td>F</td>\n",
       "      <td>Valve</td>\n",
       "      <td>NaN</td>\n",
       "      <td>NaN</td>\n",
       "      <td>63.653177</td>\n",
       "      <td>NaN</td>\n",
       "      <td>NaN</td>\n",
       "      <td>...</td>\n",
       "      <td>NaN</td>\n",
       "      <td>NaN</td>\n",
       "      <td>NaN</td>\n",
       "      <td>NaN</td>\n",
       "      <td>NaN</td>\n",
       "      <td>NaN</td>\n",
       "      <td>NaN</td>\n",
       "      <td>NaN</td>\n",
       "      <td>NaN</td>\n",
       "      <td>1</td>\n",
       "    </tr>\n",
       "    <tr>\n",
       "      <th>9</th>\n",
       "      <td>8583</td>\n",
       "      <td>67.100556</td>\n",
       "      <td>74.339450</td>\n",
       "      <td>F</td>\n",
       "      <td>Severe</td>\n",
       "      <td>56.657575</td>\n",
       "      <td>74.339450</td>\n",
       "      <td>NaN</td>\n",
       "      <td>46.798190</td>\n",
       "      <td>NaN</td>\n",
       "      <td>...</td>\n",
       "      <td>NaN</td>\n",
       "      <td>NaN</td>\n",
       "      <td>NaN</td>\n",
       "      <td>NaN</td>\n",
       "      <td>NaN</td>\n",
       "      <td>NaN</td>\n",
       "      <td>NaN</td>\n",
       "      <td>NaN</td>\n",
       "      <td>NaN</td>\n",
       "      <td>1</td>\n",
       "    </tr>\n",
       "  </tbody>\n",
       "</table>\n",
       "<p>10 rows × 30 columns</p>\n",
       "</div>\n",
       "      <button class=\"colab-df-convert\" onclick=\"convertToInteractive('df-6f108fab-ac09-4c6d-91b1-cc59bba2c890')\"\n",
       "              title=\"Convert this dataframe to an interactive table.\"\n",
       "              style=\"display:none;\">\n",
       "        \n",
       "  <svg xmlns=\"http://www.w3.org/2000/svg\" height=\"24px\"viewBox=\"0 0 24 24\"\n",
       "       width=\"24px\">\n",
       "    <path d=\"M0 0h24v24H0V0z\" fill=\"none\"/>\n",
       "    <path d=\"M18.56 5.44l.94 2.06.94-2.06 2.06-.94-2.06-.94-.94-2.06-.94 2.06-2.06.94zm-11 1L8.5 8.5l.94-2.06 2.06-.94-2.06-.94L8.5 2.5l-.94 2.06-2.06.94zm10 10l.94 2.06.94-2.06 2.06-.94-2.06-.94-.94-2.06-.94 2.06-2.06.94z\"/><path d=\"M17.41 7.96l-1.37-1.37c-.4-.4-.92-.59-1.43-.59-.52 0-1.04.2-1.43.59L10.3 9.45l-7.72 7.72c-.78.78-.78 2.05 0 2.83L4 21.41c.39.39.9.59 1.41.59.51 0 1.02-.2 1.41-.59l7.78-7.78 2.81-2.81c.8-.78.8-2.07 0-2.86zM5.41 20L4 18.59l7.72-7.72 1.47 1.35L5.41 20z\"/>\n",
       "  </svg>\n",
       "      </button>\n",
       "      \n",
       "  <style>\n",
       "    .colab-df-container {\n",
       "      display:flex;\n",
       "      flex-wrap:wrap;\n",
       "      gap: 12px;\n",
       "    }\n",
       "\n",
       "    .colab-df-convert {\n",
       "      background-color: #E8F0FE;\n",
       "      border: none;\n",
       "      border-radius: 50%;\n",
       "      cursor: pointer;\n",
       "      display: none;\n",
       "      fill: #1967D2;\n",
       "      height: 32px;\n",
       "      padding: 0 0 0 0;\n",
       "      width: 32px;\n",
       "    }\n",
       "\n",
       "    .colab-df-convert:hover {\n",
       "      background-color: #E2EBFA;\n",
       "      box-shadow: 0px 1px 2px rgba(60, 64, 67, 0.3), 0px 1px 3px 1px rgba(60, 64, 67, 0.15);\n",
       "      fill: #174EA6;\n",
       "    }\n",
       "\n",
       "    [theme=dark] .colab-df-convert {\n",
       "      background-color: #3B4455;\n",
       "      fill: #D2E3FC;\n",
       "    }\n",
       "\n",
       "    [theme=dark] .colab-df-convert:hover {\n",
       "      background-color: #434B5C;\n",
       "      box-shadow: 0px 1px 3px 1px rgba(0, 0, 0, 0.15);\n",
       "      filter: drop-shadow(0px 1px 2px rgba(0, 0, 0, 0.3));\n",
       "      fill: #FFFFFF;\n",
       "    }\n",
       "  </style>\n",
       "\n",
       "      <script>\n",
       "        const buttonEl =\n",
       "          document.querySelector('#df-6f108fab-ac09-4c6d-91b1-cc59bba2c890 button.colab-df-convert');\n",
       "        buttonEl.style.display =\n",
       "          google.colab.kernel.accessAllowed ? 'block' : 'none';\n",
       "\n",
       "        async function convertToInteractive(key) {\n",
       "          const element = document.querySelector('#df-6f108fab-ac09-4c6d-91b1-cc59bba2c890');\n",
       "          const dataTable =\n",
       "            await google.colab.kernel.invokeFunction('convertToInteractive',\n",
       "                                                     [key], {});\n",
       "          if (!dataTable) return;\n",
       "\n",
       "          const docLinkHtml = 'Like what you see? Visit the ' +\n",
       "            '<a target=\"_blank\" href=https://colab.research.google.com/notebooks/data_table.ipynb>data table notebook</a>'\n",
       "            + ' to learn more about interactive tables.';\n",
       "          element.innerHTML = '';\n",
       "          dataTable['output_type'] = 'display_data';\n",
       "          await google.colab.output.renderOutput(dataTable, element);\n",
       "          const docLink = document.createElement('div');\n",
       "          docLink.innerHTML = docLinkHtml;\n",
       "          element.appendChild(docLink);\n",
       "        }\n",
       "      </script>\n",
       "    </div>\n",
       "  </div>\n",
       "  "
      ]
     },
     "metadata": {},
     "execution_count": 2
    }
   ]
  },
  {
   "cell_type": "markdown",
   "source": [
    "# Preprocessing"
   ],
   "metadata": {
    "id": "Ff0VIBrcEghb"
   }
  },
  {
   "cell_type": "markdown",
   "source": [
    "![picture](https://drive.google.com/uc?id=1V43wCFYm5q9LNZIWltohuUirHDyx1VSC)\n",
    "\n",
    "The goal of this section is to transform the event-based nature of all patient data (left picture) into a discretized sequence which is a sequence such that each time-step represents patient data within the given 6-month interval (patient data on right). Additionally, we will produced its associated HF labels needed to be predicted (patient hf on right).  \n"
   ],
   "metadata": {
    "id": "fsllvTqs7hmJ"
   }
  },
  {
   "cell_type": "code",
   "source": [
    "####### Define the Column which will be used in Sequence #######\n",
    "surgeries_cols = [f'age_allSX{i}' for i in range(1, 14)]\n",
    "\n",
    "birth_cols = ['sex', 'Lesion']\n",
    "\n",
    "diagnoses_cols = [\n",
    "    'CAD',\n",
    "    'ARR',\n",
    "    'VARR',\n",
    "    'PH',\n",
    "    'DIAB',\n",
    "    'Stroke',\n",
    "    'CLD',\n",
    "    'CKD',\n",
    "]\n",
    "\n",
    "temporal_cols = [\n",
    "    'AMI',\n",
    "    'IE',\n",
    "    'Sepsis'\n",
    "]\n",
    "\n",
    "ignored_cols = [\n",
    "    'deces',\n",
    "    'birth',\n",
    "    'ADMDATE',\n",
    "    'timezero',\n",
    "    'age_congSX1',\n",
    "    'age_congSX2',\n",
    "    'age_congSX3',\n",
    "    'age_congSX4',\n",
    "    'age_congSX5',\n",
    "    'age_congSX6',\n",
    "    'age_congSX7',\n",
    "    'age_congSX8',\n",
    "]\n",
    "\n",
    "diagnoses_time_col = list(map(lambda st: f'age_1st{st}', diagnoses_cols))\n",
    "temporal_time_col = list(map(lambda st: f'age_1st{st}', temporal_cols))"
   ],
   "metadata": {
    "id": "2mSErHzoEkG5"
   },
   "execution_count": null,
   "outputs": []
  },
  {
   "cell_type": "code",
   "source": [
    "def preprocess(df):\n",
    "  #df.drop(columns=ignored_cols, inplace=True)\n",
    "  \n",
    "  \"\"\"  SURGERY \"\"\"\n",
    "  #create surgery record for each patient -> output is a record with two columns(nam and age of surgery)\n",
    "  #row name and all surgeries\n",
    "  surgeries = df[['nam'] + surgeries_cols].copy()\n",
    "  #remove duplicates\n",
    "  surgeries = surgeries.drop_duplicates()\n",
    "  #transform into nam+variable+value basically verticalize \n",
    "  surgery_record = surgeries.melt(id_vars=['nam'])\n",
    "  #remove NaN\n",
    "  surgery_record = surgery_record.dropna().sort_values('nam')\n",
    "  #reset_index and drop variable( age_allSX)\n",
    "  surgery_record = surgery_record.reset_index(drop=True).drop(columns=['variable'])\n",
    "  # Discretize the age to be in a 6-month bucket ->>> round the value\n",
    "  surgery_record.value = surgery_record.value.apply(lambda age: round(age * 2) / 2)\n",
    "  # result is a 2 column df with nam and value showing all surgeries ages based on nam\n",
    "\n",
    "  \"\"\" Diagnosis \"\"\"\n",
    "  #row will all nam + diagnosis (8 columns) \n",
    "  diagnoses = df[['nam'] + diagnoses_time_col].drop_duplicates()\n",
    "  #transform vertically to 3 columns (nam+vairable(8)+value(age))\n",
    "  diagnoses_record = diagnoses.melt(id_vars=['nam']).sort_values(['nam', 'variable'])\n",
    "  #change NaN to inf and reset index\n",
    "  diagnoses_record = diagnoses_record.reset_index(drop=True).fillna(np.inf)\n",
    "  #set nam as index\n",
    "  diagnoses_record = diagnoses_record.set_index('nam')\n",
    "  # result is a 3 column df with nam(index), variable (8 per person), value(age)\n",
    "  # ['CAD','ARR','VARR','PH','DIAB','Stroke','CLD','CKD']\n",
    "  \n",
    "  \"\"\" temporal features \"\"\"\n",
    "  # 4 columns name+ 3 temporal\n",
    "  temporal = df[['nam'] + temporal_time_col].drop_duplicates()\n",
    "  #transform to vertical \n",
    "  temporal_record = temporal.melt(id_vars=['nam']).sort_values(['nam', 'variable'])\n",
    "  #Nan -> inf\n",
    "  temporal_record = temporal_record.reset_index(drop=True).fillna(np.inf)\n",
    "  # set name as index\n",
    "  temporal_record = temporal_record.set_index('nam')\n",
    "  # round value to age\n",
    "  temporal_record.value = np.round(temporal_record.value * 2.) / 2.\n",
    "  # result is a 3 column df with nam(index), variable (3 per person), value(age)\n",
    "  # ['AMI','IE','Sepsis']\n",
    "\n",
    "  \"\"\" birth record \"\"\"\n",
    "  # 3 column -> nam + (sexe,lesion)\n",
    "  birth_record = df[['nam'] + birth_cols].drop_duplicates()\n",
    "  #sort by nam\n",
    "  birth_record = birth_record.reset_index(drop=True).sort_values(['nam'])\n",
    "  # change sexe(M or F)-> sex_F and sex_M binary variables and Lesion into 4 binary (severe,shunt,valve,other)\n",
    "  birth_record = pd.get_dummies(birth_record, birth_cols)\n",
    "  #let nam be the index\n",
    "  birth_record = birth_record.set_index('nam')\n",
    "  # result is a 7 columns df with nam(index), 6 variable (2 sexe + 4 lesion )\n",
    "  # ['M','F', 'Lesion1','Lesion2','Lesion3','Lesion4']\n",
    "\n",
    "  \"\"\" HF record \"\"\"\n",
    "  # 4 columns -> [nam,\tHF,\tageT0,\tage_end]\n",
    "  hf_record = df[['nam', 'HF', 'ageT0', 'age_end']].copy()\n",
    "  # fancy way of saying dropna\n",
    "  non_hf_duration_threshold = 10\n",
    "  only_select_hf_positive = True\n",
    "  if only_select_hf_positive:\n",
    "      hf_record = hf_record.dropna()\n",
    "  else:\n",
    "      # Now, if patient ageT0 is missing, we automatically set it to a fixed # of years\n",
    "      # before the end of their studies\n",
    "      hf_record.ageT0 = hf_record.ageT0.fillna(\n",
    "          np.maximum(hf_record.age_end - non_hf_duration_threshold, 0)\n",
    "      )\n",
    "  # Set index to be nam\n",
    "  hf_record = hf_record.set_index('nam')\n",
    "  # Round HF age to nearest 6-month interval (0.5 year), and round up the end age\n",
    "  hf_record.ageT0 = np.round(hf_record.ageT0 * 2.) / 2.\n",
    "  hf_record.age_end = np.ceil(hf_record.age_end * 2.) / 2.\n",
    "  #extract just unique ids\n",
    "  all_patient_ids = hf_record.index.unique()\n",
    "  remaining_patient_ids = []\n",
    "  cms = []\n",
    "  hf_labels = []\n",
    "  cm_labels = []\n",
    "\n",
    "  #For each patient create the time-series sequence\n",
    "  for patient_id in tqdm(all_patient_ids):\n",
    "      #one row based all based on the same patient_id\n",
    "      patient_birth_rec = birth_record.loc[patient_id]\n",
    "      patient_diag_rec = diagnoses_record.loc[patient_id]\n",
    "      patient_hf_rec = hf_record.loc[patient_id]\n",
    "      patient_temp_rec = temporal_record.loc[patient_id]\n",
    "      #age \n",
    "      age_start = 40.\n",
    "      age_end = patient_hf_rec.age_end.max()\n",
    "      \n",
    "      if age_end < 40.:\n",
    "          continue\n",
    "    # pass through the function below which merges each subdataframe together with respect to time intervals.\n",
    "      patient_cms, patient_hf_labels = compute_patient_cms_labels(\n",
    "          patient_id,\n",
    "          patient_hf_rec, \n",
    "          patient_diag_rec, \n",
    "          patient_birth_rec, \n",
    "          patient_temp_rec,\n",
    "          surgery_record, \n",
    "          age_start, \n",
    "          age_end\n",
    "      )\n",
    "      \n",
    "      cms.append(patient_cms)\n",
    "      hf_labels.append(patient_hf_labels)\n",
    "      remaining_patient_ids.append(patient_id)\n",
    "  \n",
    "  \"\"\" MERGE \"\"\"\n",
    "  return remaining_patient_ids, cms, hf_labels"
   ],
   "metadata": {
    "id": "Jnp7WBCKEvuZ"
   },
   "execution_count": null,
   "outputs": []
  },
  {
   "cell_type": "code",
   "source": [
    "def compute_patient_cms_labels(patient_id, patient_hf_rec, patient_diag_rec, patient_birth_rec,\n",
    "                               patient_temp_rec, surgery_record, age_start, age_end, \n",
    "                               min_age=40.):\n",
    "    patient_cms = []\n",
    "    patient_hf_labels = []\n",
    "    patient_cm_labels = []\n",
    "    \n",
    "    age_start = max(min_age, age_start)\n",
    "\n",
    "    #here we tranform age at health event into a binary values depending on if the event occured at the age interval\n",
    "    for age in np.arange(age_start, age_end+1, 0.5):        \n",
    "        # Compute the birth records and permanent CMs\n",
    "        single_birth_cm = patient_birth_rec.values\n",
    "        single_diag_cm = np.array(patient_diag_rec.value < age, dtype=int)\n",
    "        \n",
    "        # Compute temporal CMs and surgery\n",
    "        single_temp_cm = np.array(patient_temp_rec.value == age, dtype=int)\n",
    "        single_surg_label = np.any((surgery_record.nam == patient_id) & (surgery_record.value == age)).astype(int)\n",
    "\n",
    "        # Compute current and next HF\n",
    "        hf_current = np.any((patient_hf_rec.ageT0 == age) & (patient_hf_rec.HF == 1)).astype(int)\n",
    "        hf_next = np.any((patient_hf_rec.ageT0 == age + 0.5) & (patient_hf_rec.HF == 1)).astype(int)\n",
    "        \n",
    "        \n",
    "        \n",
    "        # Concatenate the CMs\n",
    "        single_cms = np.concatenate([\n",
    "            single_birth_cm, single_diag_cm, single_temp_cm,\n",
    "            np.array([single_surg_label, hf_current, age])\n",
    "        ])\n",
    "        patient_cms.append(single_cms)\n",
    "        patient_hf_labels.append(hf_next)\n",
    "\n",
    "\n",
    "    patient_cms = np.stack(patient_cms)\n",
    "    patient_hf_labels = np.array(patient_hf_labels)\n",
    "\n",
    "    return patient_cms, patient_hf_labels"
   ],
   "metadata": {
    "id": "dlrDI9owFTl_"
   },
   "execution_count": null,
   "outputs": []
  },
  {
   "cell_type": "code",
   "source": [
    "# For each patient we turn event based data into sequencial data (cms = input, hf_labels = output)\n",
    "ids,cms,hf_labels = preprocess(df)\n",
    "\n",
    "\"\"\"\n",
    "Note this step will take roughly 25 minutes to run (you only need to do this once)  \n",
    "You can run the next cell and save the pickled files by clicking on this in google colab local files on the right and dowloading them\n",
    "Then upload them and repickle them using the cell after the next to skip the preprocess steps.\n",
    "\"\"\""
   ],
   "metadata": {
    "colab": {
     "base_uri": "https://localhost:8080/",
     "height": 105
    },
    "id": "uEssYVkDFzGJ",
    "outputId": "882c467e-45aa-40b5-d4a5-aa89e67793c2"
   },
   "execution_count": null,
   "outputs": [
    {
     "output_type": "stream",
     "name": "stderr",
     "text": [
      "100%|██████████| 8428/8428 [17:32<00:00,  8.01it/s]\n"
     ]
    },
    {
     "output_type": "execute_result",
     "data": {
      "text/plain": [
       "'\\nNote this step will take roughly 25 minutes to run (you only need to do this once)  \\nYou can run the next cell and save the pickled files by clicking on this in google colab local files on the right and dowloading them\\nThen upload them and repickle them using the cell after the next to skip the preprocess steps.\\n'"
      ],
      "application/vnd.google.colaboratory.intrinsic+json": {
       "type": "string"
      }
     },
     "metadata": {},
     "execution_count": 6
    }
   ]
  },
  {
   "cell_type": "code",
   "source": [
    "#write files to local colab files\n",
    "output1 = open('cms.pkl', 'wb')\n",
    "pickle.dump(cms,output1)\n",
    "output2 = open('ids.pkl', 'wb')\n",
    "pickle.dump(ids,output2)\n",
    "output3 = open('hf_labels.pkl', 'wb')\n",
    "pickle.dump(hf_labels,output3)"
   ],
   "metadata": {
    "id": "EiQmTCioJldH"
   },
   "execution_count": null,
   "outputs": []
  },
  {
   "cell_type": "code",
   "source": [
    "#read files from local colab files (pickled files must first be uploaded) - Link to \n",
    "infile = open('cms.pkl','rb')\n",
    "cms = pickle.load(infile)\n",
    "infile2 = open('ids.pkl','rb')\n",
    "ids = pickle.load(infile2)\n",
    "infile3 = open('hf_labels.pkl','rb')\n",
    "hf_labels = pickle.load(infile3)"
   ],
   "metadata": {
    "id": "ppbJrKnfKBWr"
   },
   "execution_count": null,
   "outputs": []
  },
  {
   "cell_type": "code",
   "source": [
    "# This is what are data now looks like for one patient\n",
    "# if you want to see the whole array run this :  np.set_printoptions(threshold=10000) \n",
    "print(cms[0])\n",
    "\n",
    "print(hf_labels[0])\n",
    "\n",
    "#Notice that the hf_labels are the same the second to last column values  but shift over one time step (that is as we are predicting next timestep) "
   ],
   "metadata": {
    "id": "UcZUd-q_GKZ9",
    "colab": {
     "base_uri": "https://localhost:8080/"
    },
    "outputId": "296a0293-a65f-455b-b29f-c1cf7054cb4c"
   },
   "execution_count": null,
   "outputs": [
    {
     "output_type": "stream",
     "name": "stdout",
     "text": [
      "[[ 0.   1.   1.  ...  0.   0.  40. ]\n",
      " [ 0.   1.   1.  ...  0.   0.  40.5]\n",
      " [ 0.   1.   1.  ...  0.   0.  41. ]\n",
      " ...\n",
      " [ 0.   1.   1.  ...  0.   0.  88.5]\n",
      " [ 0.   1.   1.  ...  0.   0.  89. ]\n",
      " [ 0.   1.   1.  ...  0.   0.  89.5]]\n",
      "[0 0 0 0 0 0 0 0 0 0 0 0 0 0 0 0 0 0 0 0 0 0 0 0 0 0 0 0 0 0 0 0 0 0 0 1 0\n",
      " 0 0 0 0 1 0 0 0 0 0 0 0 0 0 0 0 0 0 0 0 0 0 0 0 0 1 0 0 0 0 0 0 0 0 0 0 0\n",
      " 0 0 0 0 0 0 0 0 0 0 0 0 0 0 0 0 0 0 0 0 0 0 0 0 0 0]\n"
     ]
    }
   ]
  },
  {
   "cell_type": "markdown",
   "source": [
    "\n",
    "# Format Data "
   ],
   "metadata": {
    "id": "j3PODMTQMF1s"
   }
  },
  {
   "cell_type": "code",
   "source": [
    "######### FORMATTING FOR SEQUENCE TO SEQUENCE BASED MODEL #########\n",
    "\n",
    "#Addional Reading:  https://www.analyticsvidhya.com/blog/2020/08/a-simple-introduction-to-sequence-to-sequence-models/\n",
    "\n",
    "\n",
    "def dataset_split(remaining_patient_ids):\n",
    "    train_id, test_id = train_test_split(remaining_patient_ids, test_size=0.25, random_state=2019)\n",
    "    train_id = set(train_id)\n",
    "    test_id = set(test_id)\n",
    "    return train_id, test_id\n",
    "\n",
    "#SPLIT DATA INTO TEST AND TRAIN (1:3 split)\n",
    "train_id, test_id = dataset_split(ids)\n",
    "\n",
    "\n",
    "def train_test_preprocess(cms, labels, train_id, test_id, all_patient_ids):\n",
    "    train_cms = []\n",
    "    train_labels = []\n",
    "    test_cms = []\n",
    "    test_labels = []\n",
    "\n",
    "    for patient_id, cm, target in tqdm(zip(all_patient_ids, cms, labels)):\n",
    "        if patient_id in train_id:\n",
    "            train_cms.append(cm)\n",
    "            train_labels.append(target)\n",
    "        else:\n",
    "            test_cms.append(cm)\n",
    "            test_labels.append(target)\n",
    "    return train_cms, train_labels, test_cms, test_labels\n",
    "\n",
    "#Using the slip ids, we split the data into train and test data and labels\n",
    "train_cms, train_labels, test_cms, test_labels = train_test_preprocess(cms, hf_labels, train_id, test_id, ids)\n",
    "\n"
   ],
   "metadata": {
    "colab": {
     "base_uri": "https://localhost:8080/"
    },
    "id": "m2pXWQvH9Atm",
    "outputId": "06f6bafa-7469-426b-a954-d49de75b36b3"
   },
   "execution_count": null,
   "outputs": [
    {
     "output_type": "stream",
     "name": "stderr",
     "text": [
      "8428it [00:00, 967448.32it/s]"
     ]
    },
    {
     "output_type": "stream",
     "name": "stdout",
     "text": [
      "X_train shape: (6321, 185, 20)\n",
      "X_test shape: (2107, 185, 20)\n",
      "y_train shape: (6321, 185, 1)\n",
      "y_test shape: (2107, 185)\n"
     ]
    },
    {
     "output_type": "stream",
     "name": "stderr",
     "text": [
      "\n"
     ]
    }
   ]
  },
  {
   "cell_type": "markdown",
   "source": [
    "PADDING \n",
    "![picture](https://drive.google.com/uc?id=1aSpXlz9pjcqeFdobOTApmyKc1fa5xCVw)\n",
    "\n",
    "The goal of padding is to transform the different lengthed sequence into the same length. Basically, making the data uniforme into order to be able to pass efficiently into our model. We padding with the value -1 so that when the model trains it will ignore this section. "
   ],
   "metadata": {
    "id": "c1sxObv5KNWz"
   }
  },
  {
   "cell_type": "code",
   "source": [
    "#### PADDING #####\n",
    "#https://www.tensorflow.org/api_docs/python/tf/keras/utils/pad_sequences\n",
    "\n",
    "#Padding essentially makes all inputs sequences the same length based on the value 'maxlen' and fills the sequence with 'value=-1' which helps the training ignore that part of the sequence \n",
    "def pad(train_cms, train_labels, test_cms, test_labels):\n",
    "    X_train = pad_sequences(train_cms, value=-1,dtype='float32')\n",
    "    y_train = np.expand_dims(pad_sequences(train_labels), axis=-1)\n",
    "\n",
    "    X_test = pad_sequences(test_cms, value=-1,maxlen=X_train.shape[1],dtype='float32')\n",
    "    y_test = pad_sequences(test_labels,maxlen=X_train.shape[1])\n",
    "    \n",
    "    return X_train, y_train, X_test, y_test\n",
    "X_train, y_train, X_test, y_test = pad(train_cms, train_labels, test_cms, test_labels)\n",
    "\n",
    "#shows the input dimensions\n",
    "print(\"X_train shape: {}\".format(X_train.shape))\n",
    "print(\"X_test shape: {}\".format(X_test.shape))\n",
    "print(\"y_train shape: {}\".format(y_train.shape))\n",
    "print(\"y_test shape: {}\".format(y_test.shape))\n"
   ],
   "metadata": {
    "id": "xm4FfqbRKHYd"
   },
   "execution_count": null,
   "outputs": []
  },
  {
   "cell_type": "code",
   "source": [
    "# this normalizes the data using the min-max method but other can be used (note that we don't always need to scale)\n",
    "#https://machinelearningmastery.com/normalize-standardize-time-series-data-python/\n",
    "\"\"\"\n",
    "def min_max(x,max):\n",
    "  return (x + 1)/(max + 1)\n",
    "\n",
    "def find_max(data):\n",
    "  max = 0\n",
    "  for i in range(0,data.shape[0]):\n",
    "    for j in range(0,data.shape[1]):\n",
    "      if(data[i][j][-1]>max):\n",
    "        max = data[i][j][-1]\n",
    "\n",
    "    return max\n",
    "\n",
    "def norm(data):\n",
    "  max = find_max(data)\n",
    "  for i in range(0,data.shape[0]):\n",
    "    for j in range(0,data.shape[1]):\n",
    "      data[i][j][-1] = min_max(data[i][j][-1],max)\n",
    "  \n",
    "  return data\n",
    "\n",
    "X_train = norm(X_train)\n",
    "X_test = norm(X_test)\n",
    "\"\"\""
   ],
   "metadata": {
    "id": "LOBhyUHEToEk",
    "colab": {
     "base_uri": "https://localhost:8080/",
     "height": 105
    },
    "outputId": "3fcff893-a147-48fe-cd61-4e2d7bf14938"
   },
   "execution_count": null,
   "outputs": [
    {
     "output_type": "execute_result",
     "data": {
      "text/plain": [
       "'\\ndef min_max(x,max):\\n  return (x + 1)/(max + 1)\\n\\ndef find_max(data):\\n  max = 0\\n  for i in range(0,data.shape[0]):\\n    for j in range(0,data.shape[1]):\\n      if(data[i][j][-1]>max):\\n        max = data[i][j][-1]\\n\\n    return max\\n\\ndef norm(data):\\n  max = find_max(data)\\n  for i in range(0,data.shape[0]):\\n    for j in range(0,data.shape[1]):\\n      data[i][j][-1] = min_max(data[i][j][-1],max)\\n  \\n  return data\\n\\nX_train = norm(X_train)\\nX_test = norm(X_test)\\n'"
      ],
      "application/vnd.google.colaboratory.intrinsic+json": {
       "type": "string"
      }
     },
     "metadata": {},
     "execution_count": 6
    }
   ]
  },
  {
   "cell_type": "markdown",
   "source": [
    "# Models"
   ],
   "metadata": {
    "id": "aTrlX5jNasqx"
   }
  },
  {
   "cell_type": "markdown",
   "source": [
    " FIXED POSITIONAL ENCODER \n",
    "\n",
    "![picture](https://drive.google.com/uc?id=1MVlhQaQgfSWnc8EZDUrD4B3vDT1UVddW)\n",
    "\n",
    "The attention layers used throughout the model see their input as a set of vectors, with no order. \n",
    "Since the model doesn't contain any recurrent or convolutional layers. It needs some way to identify visit order (i.e encode the notion of age/time)\n",
    "\n",
    "We add \"Positional Encoding\" to the input vectors.\n",
    "It uses a set of sines and cosines at different frequencies (across the sequence). By definition nearby elements will have similar position encodings.\n",
    "\n",
    "The formula for calculating the positional encoding (implemented in Python below) is as follows:\n",
    "\n",
    "$$\\Large{PE_{(pos, 2i)} = \\sin(pos / 10000^{2i / d_{model}})} $$\n",
    "$$\\Large{PE_{(pos, 2i+1)} = \\cos(pos / 10000^{2i / d_{model}})} $$\n",
    "\n",
    "If you want to learn more:\n",
    "\n",
    "https://kazemnejad.com/blog/transformer_architecture_positional_encoding/\n",
    "https://machinelearningmastery.com/a-gentle-introduction-to-positional-encoding-in-transformer-models-part-1/#:~:text=Positional%20encoding%20describes%20the%20location,item's%20position%20in%20transformer%20models.\n",
    "\n"
   ],
   "metadata": {
    "id": "kVxBqQUbLwG7"
   }
  },
  {
   "cell_type": "code",
   "source": [
    "\n",
    "def get_angles(pos, i, d_model):\n",
    "  angle_rates = 1 / np.power(10000, (2 * (i//2)) / np.float32(d_model))\n",
    "  return pos * angle_rates\n",
    "\n",
    "def positional_encoding(position, d_model):\n",
    "  angle_rads = get_angles(np.arange(position)[:, np.newaxis],\n",
    "                          np.arange(d_model)[np.newaxis, :],\n",
    "                          d_model)\n",
    "\n",
    "  # apply sin to even indices in the array; 2i\n",
    "  angle_rads[:, 0::2] = np.sin(angle_rads[:, 0::2])\n",
    "\n",
    "  # apply cos to odd indices in the array; 2i+1\n",
    "  angle_rads[:, 1::2] = np.cos(angle_rads[:, 1::2])\n",
    "\n",
    "  pos_encoding = angle_rads[np.newaxis, ...]\n",
    "\n",
    "  return tf.cast(pos_encoding, dtype=tf.float32)"
   ],
   "metadata": {
    "id": "f1BSKwT9WUd6"
   },
   "execution_count": null,
   "outputs": []
  },
  {
   "cell_type": "markdown",
   "source": [
    "Attention \n",
    "\n",
    "Attention has the benifit that it is fully connected and is able to account for how the each time step in a sequence impacts the others\n",
    "\n",
    "![picture](https://drive.google.com/uc?id=1jV1OW1hOAC0Kpy7HePEKy_gt3HrayyRH)\n",
    "\n",
    "The attention formula creates 3 set of matrices called the query, key and value, which have weights associated to them. \n",
    "\n",
    "The query and the kay get passed into a softmax scaled-dot-product equation. This equation yield an attention matrix of size sequence length by sequence length where each position (att_ij) in the matrix depicts the connection between (visit_i and visit_j). Thus, when we multiply this attention matix by the value matrix which is just the weighted input, we get a context-aware representation on the initial sequence called the CONTEXT VECTOR.\n",
    "\n",
    "![picture](https://drive.google.com/uc?id=1o7au_Py37XNNaU0cmidk0bGzgECvbNQf)\n",
    "\n",
    "It is important to note that the above describes and image is a single head attention mechanism. The multi-head comes in by applying the attention above multiple time in parallel then combining the output through a weighted average.\n",
    "The intuition is that different attention head will pay attention to different patterns and relationships within the sequences thus the multi-head can pick up a deeper understanding than a single one.\n",
    "\n",
    "MASKING:\n",
    "\n",
    "Finally, because we are predicting future time points we need to make sure that we do not consider future time points during the training process. In order to do that we apply a masking matrix which is a square matrix of the length of the sequences where the upper diagonal triangle is set to negative infinity and the rest is zero. We add this matrix to the attention matrix during training to ensure we do not consider any relationships between a time steps and a future time step.  \n",
    "\n",
    "![picture](https://drive.google.com/uc?id=1TqeTe7sb3kzXo9MoeJC4fqBVrL7OguIJ)\n"
   ],
   "metadata": {
    "id": "Z6TnySrwMsId"
   }
  },
  {
   "cell_type": "code",
   "source": [
    "##### IMPLEMENTATION OF MULTI-HEAD ATTENTION MECHANISM ##########\n",
    "\"\"\"\n",
    "To read more about how it works:\n",
    "- https://theaisummer.com/self-attention/\n",
    "- https://data-science-blog.com/blog/2021/04/07/multi-head-attention-mechanism/\n",
    "- https://towardsdatascience.com/transformers-explained-visually-part-3-multi-head-attention-deep-dive-1c1ff1024853\n",
    "\"\"\"\n",
    "\n",
    "class MultiHeadAttention(tf.keras.layers.Layer):\n",
    "    #initialize weights \n",
    "    def __init__(self, d_model, num_heads):\n",
    "        super(MultiHeadAttention, self).__init__()\n",
    "        self.num_heads = num_heads\n",
    "        self.d_model = d_model\n",
    "        assert d_model % self.num_heads == 0\n",
    "        self.depth = d_model // self.num_heads\n",
    "        self.wq = tf.keras.layers.Dense(d_model)\n",
    "        self.wk = tf.keras.layers.Dense(d_model)\n",
    "        self.wv = tf.keras.layers.Dense(d_model)\n",
    "        self.dense = tf.keras.layers.Dense(d_model)\n",
    "\n",
    "    # Masking layer : https://www.tensorflow.org/guide/keras/masking_and_padding#:~:text=Masking%20is%20a%20way%20to,skipped%20when%20processing%20the%20data.\n",
    "    #Basically masking ensures that the training process doesn't cheat. It ensures that the model only considers past data when predict future time points     \n",
    "    def masked(self,size):\n",
    "        mask = 1 - tf.linalg.band_part(tf.ones((size, size)), -1, 0)\n",
    "        mask  = mask * -1e9\n",
    "        return mask  # (seq_len, seq_len)\n",
    "\n",
    "    def scaled_dot_product_attention(self, q, k, v, mask):\n",
    "        \n",
    "        matmul_qk = tf.matmul(q, k, transpose_b=True)  # (..., seq_len_q, seq_len_k)\n",
    "        dk = tf.cast(tf.shape(k)[-1], tf.float32)\n",
    "\n",
    "        # add the mask to the scaled tensor.\n",
    "        if mask is not None:\n",
    "            matmul_qk = matmul_qk+self.masked(mask)\n",
    "        attention  = matmul_qk / tf.math.sqrt(dk)\n",
    "        # softmax is normalized on the last axis (seq_len_k) so that the scores\n",
    "        # add up to 1.\n",
    "        #attention_weights = Activation('softmax')(attention)  \n",
    "        attention_weights = tf.nn.softmax(attention, axis=-1)  # (..., seq_len_q, seq_len_k)\n",
    "        output = tf.matmul(attention_weights, v)  # (..., seq_len_q, depth_v)\n",
    "        return output, attention_weights\n",
    "    \n",
    "    \n",
    "  \n",
    "    def split_heads(self, x, batch_size):\n",
    "        \"\"\"Split the last dimension into (num_heads, depth).\n",
    "        Transpose the result such that the shape is (batch_size, num_heads, seq_len, depth)\n",
    "        \"\"\"\n",
    "        x = tf.reshape(x, (batch_size, -1, self.num_heads, self.depth))\n",
    "        return tf.transpose(x, perm=[0, 2, 1, 3])\n",
    "\n",
    "    def __call__(self, q, k, v,mask):\n",
    "        batch_size = tf.shape(q)[0]\n",
    "        \n",
    "        q = self.wq(q)  # (batch_size, seq_len, d_model)\n",
    "        k = self.wk(k)  # (batch_size, seq_len, d_model)\n",
    "        v = self.wv(v)  # (batch_size, seq_len, d_model)\n",
    "        #print(q.shape)\n",
    "        q = self.split_heads(q, batch_size)  # (batch_size, num_heads, seq_len_q, depth)\n",
    "        k = self.split_heads(k, batch_size)  # (batch_size, num_heads, seq_len_k, depth)\n",
    "        v = self.split_heads(v, batch_size)  # (batch_size, num_heads, seq_len_v, depth)\n",
    "        # scaled_attention.shape == (batch_size, num_heads, seq_len_q, depth)\n",
    "        # attention_weights.shape == (batch_size, num_heads, seq_len_q, seq_len_k)\n",
    "        scaled_attention, attention_weights = self.scaled_dot_product_attention(q, k, v, mask)\n",
    "        scaled_attention = tf.transpose(scaled_attention, perm=[0, 2, 1, 3])  # (batch_size, seq_len_q, num_heads, depth)\n",
    "        concat_attention = tf.reshape(scaled_attention,  (batch_size, -1, self.d_model))  # (batch_size, seq_len_q, d_model)\n",
    "        output = self.dense(concat_attention)  # (batch_size, seq_len_q, d_model)\n",
    "        return output, attention_weights"
   ],
   "metadata": {
    "id": "HaJ1E7nXd6lD"
   },
   "execution_count": null,
   "outputs": []
  },
  {
   "cell_type": "code",
   "source": [
    "#ATTENTION MODEL\n",
    "\n",
    "def build_attention(seq,n_layers,hidden_dim,heads,mask):\n",
    "  input_dim=20  # 20 patient features\n",
    "  input1= Input(shape =(None,input_dim))  #input placer we are pass data into model \n",
    "  x = input1+positional_encoding(seq,input_dim)[:, :seq, :] #apply positional encoder\n",
    "\n",
    "  fn1, att = MultiHeadAttention(d_model=hidden_dim, num_heads=heads)(q=x,k=x,v=x,mask=mask) # apply multihead attention layer\n",
    "  fn1 = LayerNormalization()(fn1) # layernormalization\n",
    "  fn1 = Dropout(0.2)(fn1) #dropout layer\n",
    "  out = Dense(1, activation='sigmoid')(fn1) # dense layer to predict next time step\n",
    "  model = Model(inputs=input1,outputs=out) \n",
    "    \n",
    "  return model\n",
    "\n",
    "  #Try adding to the model\n",
    "\n",
    "    #batch normalization\n",
    "    # convolutional layer are sometimes used\n",
    "\n",
    "    #WE ARE ABLE TO CREATE AN ATTENTION BLOCK BY COMBINING THE ATTENTION LAYER WITH:\n",
    "\n",
    "      #fn1 = LayerNormalization()(fn1) # layernormalization\n",
    "      #fn1 = Dropout(0.2)(fn1) #dropout layer\n",
    "      #feed forward network \n",
    "      #residual connections\n",
    "      #we can create a for loop to have multiple attention blocks\n",
    "\n",
    "    # Some ideas: \n",
    "    #https://towardsdatascience.com/attention-for-time-series-classification-and-forecasting-261723e0006d\n",
    "    #https://towardsdatascience.com/time-series-forecasting-with-deep-learning-and-attention-mechanism-2d001fc871fc\n",
    "    #look up attention based models!!!\n"
   ],
   "metadata": {
    "id": "CwIQq8sTd91t"
   },
   "execution_count": null,
   "outputs": []
  },
  {
   "cell_type": "markdown",
   "source": [
    "RNN, LSTM, GRU MODELS \n",
    "\n",
    "These models are considered the norm in modelling sequences. \n",
    "\n",
    "RNN: \n",
    "\n",
    "Process sequential data by accounting for the current input and also what has been learned from previous inputs.\n",
    "\n",
    "The advantage is that it accounts for order and previous inputs in a meaningful way. The disadvantages are Processing long sequences can yield memory and computation issues this is often called the vanishing gradient problem.\n",
    "\n",
    "This is how it works: \n",
    "\n",
    "<img src=\"https://drive.google.com/uc?id=1BXg4eSDFpMl5X8ZaKXo_YQ_9AfMge_AZ\" width=\"750\" align=\"center\">\n",
    "\n",
    "Each X_i represents a time step. W is the weights that filter inputs, a is the activation of the hidden layer (a combination of weighted input and the previous hidden state), and b is the output of the hidden layer after it has been transformed, or squashed, using a rectified linear or sigmoid unit. The b_i value represents the hidden state of what was learnt in previous time steps.\n",
    "\n",
    "The vanishing gradient problem mentioned above occurs when the sequence is long (i.e. many X_i). What happens in this case is that the gradient shrink leading to it because difficutl to update the weights and biases at the early section of the sequence (i.e at X_0, X_1). Thus, lets say that a patient had a surgery at age 1, the model would not effectively learn the correlation between that and a Heart Failure at the age of 40. To overcome this, reseachers developed the LSTM and GRU blocks.\n",
    "\n",
    "LSTM:\n",
    "\n",
    "https://colah.github.io/posts/2015-08-Understanding-LSTMs/\n",
    "\n",
    "Above link give a great walk through of how LSTM works.\n",
    "Here's a quick illustration of how the LSTM Block works:\n",
    "\n",
    "\n",
    "![picture](https://drive.google.com/uc?id=1Z9gmE_kKEAVz4LJh18_0dHHYqL4ZtcLF)\n",
    "\n",
    "In the block above, \n",
    "\n",
    "- Red Box (Forget gate):  Purpose of the red box is to learn what to forget from the previous and current states. It is trained to apply a sigmoid activation layer which outputs value near 0 when the input is deemed irrelevant to predictions and 1 if important.\n",
    "\n",
    "- Pink Box (Update gate):  Purpose of the pink box is to determine what new information should be added to the networks long-term memory (cell state), given the previous hidden state and new input data. We call it the update section.\n",
    "\n",
    "- Yellow Box (Output gate): Purpose of the pink box is to decide the new hidden state. To decide this, we will use three things; the newly updated cell state, the previous hidden state and the new input data. Note that this hidden state get trained to output important information specifically about the predictive task where as the new cell state is a representation of the entire sequence at that time step.\n",
    "\n",
    "As each gate decides the relevancy of information that is stored in the cell and hidden states, when back propagating from cell to cell, the passed error is as close to 1 as possible. This ensures that there is no vanishing of gradients. If you understand residual networks it works in a similar way as the new cell state connects the layers inside the cell with information that stabilizes the propagation of error.\n",
    "\n",
    "GRU:\n",
    "\n",
    "The GRU also tries to solve the vanishing gradient problem. GRUs solve this problem through the use of two gates, the update gate and reset gate. These gates decide what information is allowed through to the output and can be trained to retain information from farther back. \n",
    "Here a link to how it works: https://towardsdatascience.com/understanding-gru-networks-2ef37df6c9be\n",
    "\n",
    "Here's a diagram of the difference between LSTM and GRU:\n",
    "\n",
    "![picture](https://drive.google.com/uc?id=1aLIWWmRsmhlbs2aYti5EoDyNpU7UcqZu)\n",
    "\n",
    "The GRU splits the learning into twwo gates, the reset and update gates. \n",
    "- Reset gate: Used to decide how much past information to forget and is responsible for the short-term memory of the network i.e the hidden state.\n",
    "- Update gate:  Used similar to the forget and input gate of an LSTM. It decides what information to throw away and what new information to add. It serves as the long-term memory update.\n",
    "\n",
    "In all, GRUs has fewer operations; therefore, they are faster to train then LSTMs and less complex. \n",
    "There isn’t a clear winner which one is better. Researchers usually try both to determine which one works better for their use case.\n",
    "\n",
    "\n",
    "It is important to mention that as more experiments were performed with the LSTMs and GRUs there is a certain degree of complexity where this network stops being able to learn. Generally it goes to the thousand time steps before it happens which is already pretty good. However, deep understanding is needed sometimes and has motivated a shift to using attention based models such as the Transformer.\n",
    "\n",
    "\n",
    "\n",
    "To read more about the differences between lstm and gru and rnn:\n",
    "\n",
    "https://towardsdatascience.com/illustrated-guide-to-lstms-and-gru-s-a-step-by-step-explanation-44e9eb85bf21\n",
    "https://www.analyticsvidhya.com/blog/2022/01/tutorial-on-rnn-lstm-gru-with-implementation/\n",
    "https://medium.com/analytics-vidhya/rnn-vs-gru-vs-lstm-863b0b7b1573\n",
    "\n",
    "\n",
    "In the models below you can add feed forward networks before the RNN layers and also you can add additional RNN layer using for loops\n"
   ],
   "metadata": {
    "id": "uG3oQ_Ghlfoo"
   }
  },
  {
   "cell_type": "code",
   "source": [
    "#GRU Model\n",
    "\n",
    "def build_gru_model(n_layers = 2, hidden_dim=64):\n",
    "    input1 = Input(shape=(None,20)) #input placer we are pass data into model \n",
    "    mask1 = Masking(-1)(input1) #masking to ensure the training does not look into the future\n",
    "    layers = GRU(hidden_dim, return_sequences=True)(mask1) #apply GRU layer\n",
    "    out = Dense(1, activation = 'sigmoid')(layers) # dense layer to predict next time step\n",
    "    \n",
    "    model = Model(inputs=input1, outputs = out)\n",
    "    return model"
   ],
   "metadata": {
    "id": "aLMD03fFfEni"
   },
   "execution_count": null,
   "outputs": []
  },
  {
   "cell_type": "code",
   "source": [
    "#LSTM Model\n",
    "def build_lstm_model(n_layers = 2, hidden_dim=64):\n",
    "    input1 = Input(shape=(None,20))\n",
    "    mask1 = Masking(-1)(input1) #masking to ensure the training does not look into the future\n",
    "    layers = LSTM(hidden_dim, return_sequences=True)(mask1) #apply LSTM layer\n",
    "    out = Dense(1, activation = 'sigmoid')(layers) # dense layer to predict next time step\n",
    "    \n",
    "    model = Model(inputs=input1, outputs = out)\n",
    "    return model"
   ],
   "metadata": {
    "id": "lQQH8C-NW1-U"
   },
   "execution_count": null,
   "outputs": []
  },
  {
   "cell_type": "code",
   "source": [
    "#RNN Model\n",
    "def build_RNN_model(n_layers = 2, hidden_dim=64):\n",
    "    input1 = Input(shape=(None,20))\n",
    "    mask1 = Masking(-1)(input1) #masking to ensure the training does not look into the future\n",
    "    layers = SimpleRNN(hidden_dim, return_sequences=True)(mask1) #apply RNN layer\n",
    "    out = Dense(1, activation = 'sigmoid')(layers) # dense layer to predict next time step\n",
    "    \n",
    "    model = Model(inputs=input1, outputs = out)\n",
    "    return model"
   ],
   "metadata": {
    "id": "3jW8TpzgWSbS"
   },
   "execution_count": null,
   "outputs": []
  },
  {
   "cell_type": "markdown",
   "source": [
    "\n",
    "\n",
    "# Training"
   ],
   "metadata": {
    "id": "VKj5IKANavL7"
   }
  },
  {
   "cell_type": "markdown",
   "source": [
    "Since each patient will only have a few recorded HF hospitalizations throughout their entire life, the dataset label is heavily skewed towards negative examples, which may mislead the model to achieve a high accuracy at the cost of precision. \n",
    "    \n",
    "FOCAL LOSS overcome this limitation by added a weighted value on top of a normal cross entropy loss\n",
    "\n",
    "References: https://arxiv.org/pdf/1708.02002.pdf\n",
    "\n",
    "Learn more: https://medium.com/visionwizard/understanding-focal-loss-a-quick-read-b914422913e7\n"
   ],
   "metadata": {
    "id": "mbsKVsVWxqDd"
   }
  },
  {
   "cell_type": "code",
   "source": [
    "def binary_focal_loss(gamma=2., alpha=.25):\n",
    "\n",
    "    def binary_focal_loss_fixed(y_true, y_pred):\n",
    "        \"\"\"\n",
    "        :param y_true: A tensor of the same shape as `y_pred`\n",
    "        :param y_pred:  A tensor resulting from a sigmoid\n",
    "        :return: Output tensor.\n",
    "        \"\"\"\n",
    "        y_true = tf.cast(y_true, tf.float32)\n",
    "        # Define epsilon so that the back-propagation will not result in NaN for 0 divisor case\n",
    "        epsilon = K.epsilon()\n",
    "        # Add the epsilon to prediction value\n",
    "        # y_pred = y_pred + epsilon\n",
    "        # Clip the prediciton value\n",
    "        y_pred = K.clip(y_pred, epsilon, 1.0 - epsilon)\n",
    "        # Calculate p_t\n",
    "        p_t = tf.where(K.equal(y_true, 1), y_pred, 1 - y_pred)\n",
    "        # Calculate alpha_t\n",
    "        alpha_factor = K.ones_like(y_true) * alpha\n",
    "        alpha_t = tf.where(K.equal(y_true, 1), alpha_factor, 1 - alpha_factor)\n",
    "        # Calculate cross entropy\n",
    "        cross_entropy = -K.log(p_t)\n",
    "        weight = alpha_t * K.pow((1 - p_t), gamma)\n",
    "        # Calculate focal loss\n",
    "        loss = weight * cross_entropy\n",
    "        # Sum the losses in mini_batch\n",
    "        loss = K.mean(K.sum(loss, axis=1))\n",
    "        return loss\n",
    "\n",
    "    return binary_focal_loss_fixed"
   ],
   "metadata": {
    "id": "vsAk_t-ml2U4"
   },
   "execution_count": null,
   "outputs": []
  },
  {
   "cell_type": "code",
   "source": [
    "epoch_num = 10 #play around\n",
    "valid = 0.15 "
   ],
   "metadata": {
    "id": "8cn98XbrmBh2"
   },
   "execution_count": null,
   "outputs": []
  },
  {
   "cell_type": "code",
   "source": [
    "#train GRU model\n",
    "gru = build_gru_model()\n",
    "gru.compile(loss=[binary_focal_loss(alpha=.25, gamma=2)],optimizer=Adam(learning_rate=1e-2),metrics = [tf.keras.metrics.Precision()])\n",
    "#model.summary()\n",
    "train_hist = gru.fit(\n",
    "            x=X_train, \n",
    "            y=y_train, \n",
    "            epochs=epoch_num, \n",
    "            verbose=0,\n",
    "            validation_split=valid\n",
    "        )"
   ],
   "metadata": {
    "id": "3hDACmFefIVt"
   },
   "execution_count": null,
   "outputs": []
  },
  {
   "cell_type": "code",
   "source": [
    "#train LSTM model\n",
    "lstm = build_lstm_model()\n",
    "lstm.compile(loss=[binary_focal_loss(alpha=.25, gamma=2)],optimizer=Adam(learning_rate=1e-2),metrics = [tf.keras.metrics.Precision()])\n",
    "#model.summary()\n",
    "train_hist = lstm.fit(\n",
    "            x=X_train, \n",
    "            y=y_train, \n",
    "            epochs=epoch_num, \n",
    "            verbose=0,\n",
    "            validation_split=valid\n",
    "        )"
   ],
   "metadata": {
    "id": "Za5ZKLKZVknS"
   },
   "execution_count": null,
   "outputs": []
  },
  {
   "cell_type": "code",
   "source": [
    "#train attention model\n",
    "attention = build_attention(X_train.shape[1],1,64,8,X_train.shape[1])\n",
    "attention.compile(loss=[binary_focal_loss(alpha=.25, gamma=2)],optimizer=Adam(learning_rate=1e-2),metrics = [tf.keras.metrics.Precision()])\n",
    "#model.summary()\n",
    "train_hist = attention.fit(\n",
    "            x=X_train, \n",
    "            y=y_train, \n",
    "            epochs=epoch_num, \n",
    "            verbose=0,\n",
    "            validation_split=valid\n",
    "        )"
   ],
   "metadata": {
    "id": "yO2nu0hCf2g3"
   },
   "execution_count": null,
   "outputs": []
  },
  {
   "cell_type": "code",
   "source": [
    "#train RNN model\n",
    "rnn = build_RNN_model()\n",
    "rnn.compile(loss=[binary_focal_loss(alpha=.25, gamma=2)],optimizer=Adam(learning_rate=1e-2),metrics = [tf.keras.metrics.Precision()])\n",
    "#model.summary()\n",
    "train_hist = rnn.fit(\n",
    "            x=X_train, \n",
    "            y=y_train, \n",
    "            epochs=epoch_num, \n",
    "            verbose=0,\n",
    "            validation_split=valid\n",
    "        )"
   ],
   "metadata": {
    "id": "K_5CKYC0WYyw"
   },
   "execution_count": null,
   "outputs": []
  },
  {
   "cell_type": "markdown",
   "source": [
    "\n",
    "# Evaluate"
   ],
   "metadata": {
    "id": "C5-a_FEtgGae"
   }
  },
  {
   "cell_type": "code",
   "source": [
    "# Calculate prediction and return them with the true labels\n",
    "def compute_flat_pred(model, X_test, test_labels):\n",
    "    with tf.device('/cpu:0'):\n",
    "        y_pred = model.predict(X_test)\n",
    "    \n",
    "    y_pred = np.squeeze(y_pred).tolist()\n",
    "    \n",
    "    true_test = []\n",
    "    pred_test = []\n",
    "\n",
    "    for pred, true in zip(y_pred, test_labels):\n",
    "        pred_test.extend(pred[-len(true):])\n",
    "        true_test.extend(true)\n",
    "\n",
    "    true_test = np.array(true_test)\n",
    "    pred_test = np.array(pred_test)\n",
    "    #print(pred_test.dtype)\n",
    "    \n",
    "    \n",
    "    return true_test, pred_test"
   ],
   "metadata": {
    "id": "d5WDv31qyHad"
   },
   "execution_count": null,
   "outputs": []
  },
  {
   "cell_type": "markdown",
   "source": [
    "METRICS:\n",
    "\n",
    "Compute metrics we want to evaluate (area under the precision recall curve and area under the receiver operating curve)\n",
    "\n",
    "Area Under the Precision Recall Curve (AUPRC):\n",
    "- How is it calculated:  Evaluate the predicted probabilities against the actual binary labels, to find the Precision and Recall at different thresholds. Find the area under the curve\n",
    "- Ideal value:  Much Greater than the Fraction of Positive in testing set \n",
    "  (i.e all Heart Failures/ all Time Steps = 0.013) \n",
    "- Clinical Significance: For a clinical risk prediction model, the AUPRC tells you if the real diagnoses were identified (recall) without the negative diagnoses being classified as positive (precision)\n",
    "\n",
    "\n",
    "Area Under the Receiver Operating Characteristic (AUROC):\n",
    "- How is it calculated:  Evaluate the predicted probabilities against the actual binary labels, to find the TFR and FPR at different thresholds. Find the area under the curve\n",
    "- Ideal value:  >0.8 is good performance with baseline = 0.5\n",
    "- Clinical Significance: For a clinical risk prediction model, the AUROC tells you the probability that a randomly selected patient who experienced an event will have a higher predicted risk score than a randomly selected patient who did not experience an event.\n"
   ],
   "metadata": {
    "id": "zLQOpQ08yKMn"
   }
  },
  {
   "cell_type": "code",
   "source": [
    "def pr_roc(model, test_cms, test_labels):\n",
    "    y_test_flat, y_pred = compute_flat_pred(model, X_test, test_labels)\n",
    "    precision, recall, thresh_pr = precision_recall_curve(y_test_flat, y_pred)\n",
    "    ap = average_precision_score(y_test_flat, y_pred)\n",
    "    fpr, tpr, thresh_roc = roc_curve(y_test_flat, y_pred)\n",
    "    roc = roc_auc_score(y_test_flat, y_pred)\n",
    "    return precision, recall, thresh_pr, ap, fpr, tpr, thresh_roc, roc\n",
    "\n",
    "\n",
    "def plot_roc(fpr, tpr, roc):\n",
    "    plt.figure(figsize=(6, 5))\n",
    "    plt.plot(fpr, tpr, label=f' (AUC={roc:.4f})')\n",
    "    plt.xlabel('False Positive Rate (FPR)')\n",
    "    plt.ylabel('True Positive Rate(TPR)')\n",
    "    plt.legend()\n",
    "\n",
    "def plot_pr(precision, recall, ap):\n",
    "    plt.figure(figsize=(10, 5))\n",
    "    plt.plot(recall, precision, label=f'(AUC={ap:.4f})')\n",
    "    plt.xlabel('Recall')\n",
    "    plt.ylabel('Precision')\n",
    "    plt.legend()\n"
   ],
   "metadata": {
    "id": "908zkdvhjOsy"
   },
   "execution_count": null,
   "outputs": []
  },
  {
   "cell_type": "code",
   "source": [
    "#attention\n",
    "precision, recall, thresh_pr, ap, fpr, tpr, thresh_roc, roc= pr_roc(attention,X_test,y_test)\n",
    "\n",
    "#GRU\n",
    "precision1, recall1, thresh_pr1, ap1, fpr1, tpr1, thresh_roc1, roc1= pr_roc(gru,X_test,y_test)\n",
    "\n",
    "#LSTM\n",
    "precision2, recall2, thresh_pr2, ap2, fpr2, tpr2, thresh_roc2, roc2= pr_roc(lstm,X_test,y_test)\n",
    "\n",
    "#RNN\n",
    "precision3, recall3, thresh_pr3, ap3, fpr3, tpr3, thresh_roc3, roc3= pr_roc(rnn,X_test,y_test)\n",
    "\n",
    "#Precision-Recall Curve\n",
    "plt.figure(figsize=(10, 5))\n",
    "plt.plot(recall, precision, label=f'ATTENTION : (AUC={ap:.4f})')\n",
    "plt.plot(recall1, precision1, label=f'GRU : (AUC={ap1:.4f})')\n",
    "plt.plot(recall2, precision2, label=f'LSTM : (AUC={ap2:.4f})')\n",
    "plt.plot(recall3, precision3, label=f'RNN : (AUC={ap3:.4f})')\n",
    "plt.title('Precision-Recall Curve')\n",
    "plt.xlabel('Recall')\n",
    "plt.ylabel('Precision')\n",
    "plt.legend()\n",
    "\n",
    "\n",
    "#Receiver Operating Characteristic Curve\n",
    "plt.figure(figsize=(6, 5))\n",
    "plt.plot(fpr, tpr, label=f'ATTENTION : (AUC={roc:.4f})')\n",
    "plt.plot(fpr1, tpr1, label=f'GRU : (AUC={roc1:.4f})')\n",
    "plt.plot(fpr2, tpr2, label=f'LSTM : (AUC={roc2:.4f})')\n",
    "plt.plot(fpr3, tpr3, label=f'RNN : (AUC={roc3:.4f})')\n",
    "plt.title('Receiver Operating Characteristic Curve')\n",
    "plt.xlabel('False Positive Rate (FPR)')\n",
    "plt.ylabel('True Positive Rate(TPR)')\n",
    "\n"
   ],
   "metadata": {
    "colab": {
     "base_uri": "https://localhost:8080/",
     "height": 700
    },
    "id": "t_9wT_BZgH07",
    "outputId": "3f0dc34b-1ed9-49e3-84bc-154bc3c709ea"
   },
   "execution_count": null,
   "outputs": [
    {
     "output_type": "execute_result",
     "data": {
      "text/plain": [
       "Text(0, 0.5, 'True Positive Rate(TPR)')"
      ]
     },
     "metadata": {},
     "execution_count": 60
    },
    {
     "output_type": "display_data",
     "data": {
      "text/plain": [
       "<Figure size 720x360 with 1 Axes>"
      ],
      "image/png": "[encoded data removed]"
     },
     "metadata": {
      "needs_background": "light"
     }
    },
    {
     "output_type": "display_data",
     "data": {
      "text/plain": [
       "<Figure size 432x360 with 1 Axes>"
      ],
      "image/png": "[encoded data removed]"
     },
     "metadata": {
      "needs_background": "light"
     }
    }
   ]
  },
  {
   "cell_type": "code",
   "source": [
    "print(f'ATTENTION : (AUC={roc:.4f})')\n",
    "print(f'GRU : (AUC={roc1:.4f})')\n",
    "print(f'LSTM : (AUC={roc2:.4f})')\n",
    "print(f'RNN : (AUC={roc3:.4f})')"
   ],
   "metadata": {
    "colab": {
     "base_uri": "https://localhost:8080/"
    },
    "id": "PmHmQRjtZI0a",
    "outputId": "d14dd8ab-b622-4d3a-899a-7ba63a598e84"
   },
   "execution_count": null,
   "outputs": [
    {
     "output_type": "stream",
     "name": "stdout",
     "text": [
      "ATTENTION : (AUC=0.8212)\n",
      "GRU : (AUC=0.8062)\n",
      "LSTM : (AUC=0.8202)\n",
      "RNN : (AUC=0.8003)\n"
     ]
    }
   ]
  },
  {
   "cell_type": "markdown",
   "source": [
    "NOTE: This is synthetic data thus the predictive accuracy should not be great however, aimilar models were tested and yield benchmark accuracy on real data is this paper: https://journals.plos.org/plosone/article/authors?id=10.1371/journal.pone.0245177\n"
   ],
   "metadata": {
    "id": "VmM3abvxzEeC"
   }
  },
  {
   "cell_type": "markdown",
   "source": [
    "# Interpret the output of attention model"
   ],
   "metadata": {
    "id": "ICJTt5J-g6Or"
   }
  },
  {
   "cell_type": "markdown",
   "source": [
    "Two key important advantages of using attention based models:\n",
    "\n",
    "1. Just like in logistic regression we can examine the coefficients in front of each variable to assess their importance in the predictive task, we can examine the attention matrix to assess the relationship and importance between time steps. This is commonly done in Natural Language Processing task to see which word are important to consider to complete a sentence. For example, below to predict the word in red, we are paying more 'attention' to word in blue.\n",
    "\n",
    "![picture](https://drive.google.com/uc?id=1aYNBKjCwyfIuxYbxK3LSDjtmpSvb-XlL)\n",
    "\n",
    "2. The context vector described above allows us to output Heart Failure as a function of time, in the form of a visualized trajectory showed below. The context vector is a deep representation of a give patient medical history with repect to the target (Heart Failure). In a lot of NLP, problems the context vector is use to help computers understand paragraphs for many problems, such as translation, sentence completion, Ambiguity, speech recognotion and many others.\n",
    "\n"
   ],
   "metadata": {
    "id": "O-fv4oaGzd7o"
   }
  },
  {
   "cell_type": "code",
   "source": [
    "def graphs(model,patient,X_test,y_test):\n",
    "  length_seq = X_test[patient].shape[0]\n",
    "\n",
    "  #### Graph Actual HF history ######\n",
    "  x = []\n",
    "  value = 0\n",
    "  for i in range(length_seq):\n",
    "    x.append(value)\n",
    "    value = value+0.5\n",
    "  plt.plot(x,y_test[patient])\n",
    "  plt.xlabel('Patient Age')\n",
    "  plt.ylabel('HF Occurence')\n",
    "  plt.title('Actual HF Trajectory')\n",
    "  plt.show()\n",
    "\n",
    "\n",
    "  #### Estimated Acutal HF history ######\n",
    "  one = model.predict(X_test[patient].reshape((1,length_seq,20)))\n",
    "  #y = (one - np.min(one)) / (np.max(one) - np.min(one)) # if you want to scale to 0,1 probability\n",
    "  x = []\n",
    "  value = 0\n",
    "  for i in range(length_seq):\n",
    "    x.append(value)\n",
    "    value = value+0.5\n",
    "  plt.plot(x,one[0])\n",
    "  plt.xlabel('Patient Age')\n",
    "  plt.ylabel('Estimated Risk')\n",
    "  plt.title('Current HF Trajectory')\n",
    "  plt.show()\n",
    "\n",
    "  #The graph shows that the predicted risk peaks around the actual HF event\n",
    "  #Note: we only have data for each patient after the age of 40 that is why it is at zero before 40\n",
    "\n",
    "patient = 0 #pick a patient from test set\n",
    "graphs(attention,patient,X_test,y_test)"
   ],
   "metadata": {
    "colab": {
     "base_uri": "https://localhost:8080/",
     "height": 573
    },
    "id": "cuF7FZX5hA55",
    "outputId": "e97c1ef1-8d64-454f-c588-cb15bb13a331"
   },
   "execution_count": null,
   "outputs": [
    {
     "output_type": "display_data",
     "data": {
      "text/plain": [
       "<Figure size 432x288 with 1 Axes>"
      ],
      "image/png": "[encoded data removed]"
     },
     "metadata": {
      "needs_background": "light"
     }
    },
    {
     "output_type": "display_data",
     "data": {
      "text/plain": [
       "<Figure size 432x288 with 1 Axes>"
      ],
      "image/png": "[encoded data removed]"
     },
     "metadata": {
      "needs_background": "light"
     }
    }
   ]
  },
  {
   "cell_type": "code",
   "source": [
    "# Threshold is the value at the prediction would assign a HF event. \n",
    "#Thus on the graph above when the line reaches above the threshold value it implies that there is high risk of HF\n",
    "\n",
    "def threshold(model,x,y):\n",
    "  #compute threshold \n",
    "  with tf.device('/cpu:0'):\n",
    "      y_pred_hf = model.predict(x)\n",
    "  y_pred_hf = y_pred_hf.squeeze()\n",
    "  hf_thresh = np.extract(y, y_pred_hf).mean()\n",
    "  return hf_thresh\n",
    "\n",
    "hf_thresh = threshold(attention,X_test,y_test)\n",
    "hf_thresh"
   ],
   "metadata": {
    "colab": {
     "base_uri": "https://localhost:8080/"
    },
    "id": "e54EcUq2mzaD",
    "outputId": "0a04f834-7a87-4494-f5b4-4137ac6a063d"
   },
   "execution_count": null,
   "outputs": [
    {
     "output_type": "execute_result",
     "data": {
      "text/plain": [
       "0.14282021"
      ]
     },
     "metadata": {},
     "execution_count": 70
    }
   ]
  },
  {
   "cell_type": "markdown",
   "source": [
    "# Addional Info: Classification SetUp "
   ],
   "metadata": {
    "id": "zZlXyxkJuigm"
   }
  },
  {
   "cell_type": "code",
   "source": [
    "### For classification problems\n",
    "\"\"\"\n",
    "If you wanted to turn the seq2seq model into a classification probelm we have create \n",
    "minisequences and create a label which is the next HF label, i.e input = 10 times steps from 0 to i  and output = 1 HF value at i+1\n",
    "\"\"\"\n",
    "\n",
    "def trim(x):\n",
    "  z = []\n",
    "  window_size = 60\n",
    "  for i in x:\n",
    "    if(i.shape[0]>=window_size):\n",
    "      for j in range(0,i.shape[0]-window_size-1):\n",
    "        z.append(i[j:window_size+j])   \n",
    "  return np.array(z)\n",
    "\n",
    "train_cms, train_labels, test_cms, test_labels\n",
    "\n",
    "x1 = trim(train_cms)\n",
    "y1 = trim(train_labels)\n",
    "x2 = trim(test_cms)\n",
    "y2 = trim(test_labels)\n",
    "\n",
    "\n",
    "def transform_classify(y):\n",
    "  z = []\n",
    "  for i in y:\n",
    "    z.append(i[-1])   \n",
    "  return np.expand_dims(np.array(z), axis=1)\n",
    "\n",
    "y1 = transform_classify(y1)\n",
    "y2 = transform_classify(y2)\n",
    "print(y1.shape)\n",
    "print(y2.shape)\n",
    "#Padding essentially makes all inputs sequences the same length based on the value 'maxlen' and fills the sequence with 'value=-1' which helps the training ignore that part of the sequence \n",
    "def pad(train_cms, train_labels, test_cms, test_labels):\n",
    "    X_train = pad_sequences(train_cms, value=-1,dtype='float32')\n",
    "    y_train = np.expand_dims(pad_sequences(train_labels), axis=-1)\n",
    "\n",
    "    X_test = pad_sequences(test_cms, value=-1,maxlen=X_train.shape[1],dtype='float32')\n",
    "    y_test = np.expand_dims(pad_sequences(test_labels), axis=-1)\n",
    "    \n",
    "    return X_train, y_train, X_test, y_test\n",
    "    \n",
    "x1, y1, x2, y2 = pad(x1, y1, x2, y2)\n",
    "\n",
    "#shows the input dimensions\n",
    "print(\"X_train shape: {}\".format(x1.shape))\n",
    "print(\"X_test shape: {}\".format(x2.shape))\n",
    "print(\"y_train shape: {}\".format(y1.shape))\n",
    "print(\"y_test shape: {}\".format(y2.shape))"
   ],
   "metadata": {
    "colab": {
     "base_uri": "https://localhost:8080/"
    },
    "id": "eHN_WHGDuodf",
    "outputId": "fd2f9f55-4960-467c-e1a7-0e2054f0b808"
   },
   "execution_count": null,
   "outputs": [
    {
     "output_type": "stream",
     "name": "stdout",
     "text": [
      "(181933, 1)\n",
      "(61076, 1)\n",
      "X_train shape: (181933, 60, 20)\n",
      "X_test shape: (61076, 60, 20)\n",
      "y_train shape: (181933, 1, 1)\n",
      "y_test shape: (61076, 1, 1)\n"
     ]
    }
   ]
  },
  {
   "cell_type": "markdown",
   "source": [
    "TRY TO IMPLEMENT A MODEL TO CLASSIFY THESE SEQUENCES:\n",
    "\n",
    "Try to find the accuracy as well, any accuracy is good but try to get a value for it to see that it works\n",
    "\n",
    "This notebook was made by Harry Moroz.\n",
    "\n",
    "If you have questions or want me to look over an answer to the above problem  send email to: \n",
    "\n",
    "harry.moroz@mail.mcgill.ca\n"
   ],
   "metadata": {
    "id": "kjw0nGDT3ITw"
   }
  }
 ]
}
